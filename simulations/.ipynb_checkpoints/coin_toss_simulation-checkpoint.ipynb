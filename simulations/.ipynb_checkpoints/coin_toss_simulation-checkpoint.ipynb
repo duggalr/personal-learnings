{
 "cells": [
  {
   "cell_type": "code",
   "execution_count": null,
   "id": "312234a8-9dc9-4382-968d-6041d23e0e01",
   "metadata": {},
   "outputs": [],
   "source": [
    "!pip install matplotlib"
   ]
  },
  {
   "cell_type": "code",
   "execution_count": 1,
   "id": "13d909a7-c898-4a77-a9c7-dc75bb86db25",
   "metadata": {},
   "outputs": [],
   "source": [
    "import random\n",
    "import matplotlib.pyplot as plt\n"
   ]
  },
  {
   "cell_type": "code",
   "execution_count": 16,
   "id": "27042f79-73b5-4766-9a0d-60c2c701e3c7",
   "metadata": {},
   "outputs": [],
   "source": [
    "def _bar_graph_result(results, title):\n",
    "    \"\"\"\n",
    "    Assumes results are in the form of a dictionary\n",
    "    - Key is the label and Value is the number to be plotted\n",
    "    \"\"\"\n",
    "    plt.bar(range(len(results)), list(results.values()), align='center')\n",
    "    plt.xticks(range(len(results)), list(results.keys()))\n",
    "    plt.title(title)\n",
    "    plt.show()\n",
    "\n",
    "def run_fair_coin_toss_experiment(N):\n",
    "    coin_choices = [\"H\", \"T\"]\n",
    "    outcomes = {\"H\": 0, \"T\": 0}\n",
    "    for idx in range(0, N):\n",
    "        coin_toss_value = random.choice(coin_choices)\n",
    "        outcomes[coin_toss_value] += 1\n",
    "    return outcomes\n"
   ]
  },
  {
   "cell_type": "code",
   "execution_count": null,
   "id": "b6ceaf4a-b3fb-419a-acc3-9226abd673c2",
   "metadata": {},
   "outputs": [],
   "source": []
  },
  {
   "cell_type": "markdown",
   "id": "65683d3a-0266-4081-8451-1432b70b09c3",
   "metadata": {},
   "source": [
    "### Expected Value of a Fair Coin Toss\n",
    "\n",
    "The expected value \\( E(X) \\) for a fair coin toss is given by: (H = 1 and T = 0)\n",
    "\n",
    "$$\n",
    "E(X) = (1 \\times \\frac{1}{2}) + (0 \\times \\frac{1}{2}) = \\frac{1}{2}\n",
    "$$\n",
    "\n",
    "In other words:\n",
    "\n",
    "\\begin{equation*}\n",
    "\\frac{\\text{Number of heads}}{N} \\to \\frac{1}{2}, \\text{ as } N \\to \\infty\n",
    "\\end{equation*}"
   ]
  },
  {
   "cell_type": "code",
   "execution_count": 24,
   "id": "04b546d5-35e4-405f-8814-45290ce35295",
   "metadata": {
    "scrolled": true
   },
   "outputs": [
    {
     "name": "stdout",
     "output_type": "stream",
     "text": [
      "For Sample Size 10, there was:\n",
      "- 6 heads\n",
      "- 4 tails\n",
      "The probability for heads was 0.6. The expected value of X is 0.5.\n",
      "\n",
      "For Sample Size 100, there was:\n",
      "- 50 heads\n",
      "- 50 tails\n",
      "The probability for heads was 0.5. The expected value of X is 0.5.\n",
      "\n",
      "For Sample Size 1000, there was:\n",
      "- 496 heads\n",
      "- 504 tails\n",
      "The probability for heads was 0.496. The expected value of X is 0.5.\n",
      "\n",
      "For Sample Size 10000, there was:\n",
      "- 5004 heads\n",
      "- 4996 tails\n",
      "The probability for heads was 0.5004. The expected value of X is 0.5.\n",
      "\n",
      "For Sample Size 100000, there was:\n",
      "- 50145 heads\n",
      "- 49855 tails\n",
      "The probability for heads was 0.50145. The expected value of X is 0.5.\n",
      "\n",
      "For Sample Size 1000000, there was:\n",
      "- 499867 heads\n",
      "- 500133 tails\n",
      "The probability for heads was 0.499867. The expected value of X is 0.5.\n",
      "\n"
     ]
    }
   ],
   "source": [
    "# N = 10\n",
    "# outrun_fair_coin_toss_experiment(10)\n",
    "sample_sizes = [10, 100, 1000, 10000, 100000, 1000000]\n",
    "results = {}\n",
    "for n in sample_sizes:\n",
    "    coin_toss_outcomes = run_fair_coin_toss_experiment(n)\n",
    "    num_heads = coin_toss_outcomes['H']\n",
    "    num_tails = coin_toss_outcomes['T']\n",
    "    print(f\"\"\"For Sample Size {n}, there was:\n",
    "- {num_heads} heads\n",
    "- {num_tails} tails\n",
    "The probability for heads was {num_heads / n}. The expected value of X is 0.5.\n",
    "\"\"\")\n",
    "\n",
    "    results[n] = coin_toss_outcomes\n"
   ]
  },
  {
   "cell_type": "code",
   "execution_count": 25,
   "id": "eafa19bf-d705-4ca7-b595-6524f3291bde",
   "metadata": {},
   "outputs": [
    {
     "data": {
      "image/png": "[encoded data removed]",
      "text/plain": [
       "<Figure size 640x480 with 1 Axes>"
      ]
     },
     "metadata": {},
     "output_type": "display_data"
    }
   ],
   "source": [
    "_bar_graph_result(results[sample_sizes[0]], f\"Outcomes after {sample_sizes[0]} runs\")"
   ]
  },
  {
   "cell_type": "code",
   "execution_count": null,
   "id": "94da8709-13da-4a3f-8a08-e2c297629d80",
   "metadata": {},
   "outputs": [],
   "source": []
  },
  {
   "cell_type": "code",
   "execution_count": null,
   "id": "f3b165bc-0b91-4e9a-bc7d-6b1c6ff9979c",
   "metadata": {},
   "outputs": [],
   "source": [
    "# TODO:\n",
    "# - start with the betting implementation"
   ]
  },
  {
   "cell_type": "code",
   "execution_count": null,
   "id": "4b872a68-07dc-46e6-8194-8af0a6bd1a75",
   "metadata": {},
   "outputs": [],
   "source": []
  },
  {
   "cell_type": "code",
   "execution_count": null,
   "id": "a248c36b-c267-4a19-af5a-9eef33ef5c44",
   "metadata": {},
   "outputs": [],
   "source": []
  },
  {
   "cell_type": "code",
   "execution_count": null,
   "id": "4622a7c1-b572-4268-84fb-422c6aed5e3c",
   "metadata": {},
   "outputs": [],
   "source": []
  },
  {
   "cell_type": "code",
   "execution_count": null,
   "id": "7345497d-da11-47a4-b591-d7e7c4ffc29d",
   "metadata": {},
   "outputs": [],
   "source": []
  },
  {
   "cell_type": "code",
   "execution_count": null,
   "id": "48adde0b-9f81-4fc9-a308-35f685c1307e",
   "metadata": {},
   "outputs": [],
   "source": []
  },
  {
   "cell_type": "code",
   "execution_count": null,
   "id": "ac0b1768-a00a-4651-8b1d-e23dd919059e",
   "metadata": {},
   "outputs": [],
   "source": []
  },
  {
   "cell_type": "code",
   "execution_count": null,
   "id": "4ef96bf0-ca85-4d56-83f0-fd1d42dc577e",
   "metadata": {},
   "outputs": [],
   "source": []
  }
 ],
 "metadata": {
  "kernelspec": {
   "display_name": "Python 3 (ipykernel)",
   "language": "python",
   "name": "python3"
  },
  "language_info": {
   "codemirror_mode": {
    "name": "ipython",
    "version": 3
   },
   "file_extension": ".py",
   "mimetype": "text/x-python",
   "name": "python",
   "nbconvert_exporter": "python",
   "pygments_lexer": "ipython3",
   "version": "3.12.4"
  }
 },
 "nbformat": 4,
 "nbformat_minor": 5
}
